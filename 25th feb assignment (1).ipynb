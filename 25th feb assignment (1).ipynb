{
 "cells": [
  {
   "cell_type": "markdown",
   "id": "90b09e62-e9ec-434f-ae2a-df01edeb91be",
   "metadata": {},
   "source": [
    "## 25th feb assignment"
   ]
  },
  {
   "cell_type": "code",
   "execution_count": null,
   "id": "e03b71b0-5c96-404a-8bf2-ab68fef6f435",
   "metadata": {},
   "outputs": [],
   "source": [
    "1:ans:- codes are below:-"
   ]
  },
  {
   "cell_type": "code",
   "execution_count": 1,
   "id": "26b1fa07-8dc0-4018-991d-1b6add0e0f33",
   "metadata": {},
   "outputs": [],
   "source": [
    "import pandas as pd"
   ]
  },
  {
   "cell_type": "code",
   "execution_count": 2,
   "id": "0e6a211b-5cdb-4b45-afde-54f181c3e091",
   "metadata": {},
   "outputs": [],
   "source": [
    "course_name = ['data science' , 'machine learning' , 'big data' , 'data engineer']"
   ]
  },
  {
   "cell_type": "code",
   "execution_count": 3,
   "id": "64defe41-67c3-4048-b838-14e28247033d",
   "metadata": {},
   "outputs": [],
   "source": [
    "duration = [2,3,6,4]"
   ]
  },
  {
   "cell_type": "code",
   "execution_count": 4,
   "id": "a4a7fb51-5efa-48c0-b6af-65c41410541b",
   "metadata": {},
   "outputs": [],
   "source": [
    "df = pd.DataFrame(data = {'course_name': course_name ,'duration':duration})"
   ]
  },
  {
   "cell_type": "code",
   "execution_count": 5,
   "id": "7c0eb0f2-fc75-4fab-a239-3ccc8f885d54",
   "metadata": {},
   "outputs": [
    {
     "name": "stdout",
     "output_type": "stream",
     "text": [
      "course_name    machine learning\n",
      "duration                      3\n",
      "Name: 1, dtype: object\n"
     ]
    }
   ],
   "source": [
    "print(df.iloc[1])"
   ]
  },
  {
   "cell_type": "code",
   "execution_count": null,
   "id": "fc20912f-ce20-4f50-9b51-d23fb93e1df6",
   "metadata": {},
   "outputs": [],
   "source": [
    "2:ans:- \"loc\" is label-based and uses the labels of rows or columns to retrieve data.\n",
    "        The syntax for using loc is df.loc[row_label, column_label]. Here, the row_label can be\n",
    "        a single label or a list of labels representing the row(s) you want to retrieve, and column_label\n",
    "        can be a single label or a list of labels representing the column(s) you want to retrieve.\n",
    "        \n",
    "        \"iloc\", on the other hand, is position-based and uses the integer indices of rows or columns\n",
    "        to retrieve data. The syntax for using iloc is df.iloc[row_index, column_index]. Here, the \n",
    "        row_index and column_index can be integers or slices representing the position of the row(s) or\n",
    "        column(s) you want to retrieve."
   ]
  },
  {
   "cell_type": "code",
   "execution_count": null,
   "id": "2a291e2a-1eca-49cd-9c10-a954e888cdc9",
   "metadata": {},
   "outputs": [],
   "source": [
    "3:ans:- codes are below.\n",
    "    \n",
    "    Diffrences are:-\n",
    "    \n",
    "    new_df.loc[2] selects the row with index label 2 after reindexing.\n",
    "    new_df.iloc[2] selects the third row of the DataFrame based on its position after reindexing.\n",
    "    The key difference is that .loc uses the index label to select rows, whereas .iloc uses the position of the row."
   ]
  },
  {
   "cell_type": "code",
   "execution_count": 6,
   "id": "30ad9297-b0bc-4730-9596-f4a00340dc2c",
   "metadata": {},
   "outputs": [],
   "source": [
    "course_name = ['data science' , 'machine learning' , 'big data' , 'data engineer']"
   ]
  },
  {
   "cell_type": "code",
   "execution_count": 7,
   "id": "1d20b623-9235-410b-b848-da46a1b85948",
   "metadata": {},
   "outputs": [],
   "source": [
    "duration = [2,3,6,4]"
   ]
  },
  {
   "cell_type": "code",
   "execution_count": 8,
   "id": "24aa6e73-4eb3-4aae-83c4-e5e79e0bd0b1",
   "metadata": {},
   "outputs": [],
   "source": [
    "df = pd.DataFrame(data = {'course_name': course_name ,'duration':duration})"
   ]
  },
  {
   "cell_type": "code",
   "execution_count": 9,
   "id": "9322c5c9-270b-4bb3-9364-9ae982af5647",
   "metadata": {},
   "outputs": [],
   "source": [
    "new_df = df.reindex([3, 0, 1, 2])"
   ]
  },
  {
   "cell_type": "code",
   "execution_count": 10,
   "id": "a8c4ef36-0284-46c1-97c9-b4c96330003a",
   "metadata": {},
   "outputs": [
    {
     "data": {
      "text/html": [
       "<div>\n",
       "<style scoped>\n",
       "    .dataframe tbody tr th:only-of-type {\n",
       "        vertical-align: middle;\n",
       "    }\n",
       "\n",
       "    .dataframe tbody tr th {\n",
       "        vertical-align: top;\n",
       "    }\n",
       "\n",
       "    .dataframe thead th {\n",
       "        text-align: right;\n",
       "    }\n",
       "</style>\n",
       "<table border=\"1\" class=\"dataframe\">\n",
       "  <thead>\n",
       "    <tr style=\"text-align: right;\">\n",
       "      <th></th>\n",
       "      <th>course_name</th>\n",
       "      <th>duration</th>\n",
       "    </tr>\n",
       "  </thead>\n",
       "  <tbody>\n",
       "    <tr>\n",
       "      <th>3</th>\n",
       "      <td>data engineer</td>\n",
       "      <td>4</td>\n",
       "    </tr>\n",
       "    <tr>\n",
       "      <th>0</th>\n",
       "      <td>data science</td>\n",
       "      <td>2</td>\n",
       "    </tr>\n",
       "    <tr>\n",
       "      <th>1</th>\n",
       "      <td>machine learning</td>\n",
       "      <td>3</td>\n",
       "    </tr>\n",
       "    <tr>\n",
       "      <th>2</th>\n",
       "      <td>big data</td>\n",
       "      <td>6</td>\n",
       "    </tr>\n",
       "  </tbody>\n",
       "</table>\n",
       "</div>"
      ],
      "text/plain": [
       "        course_name  duration\n",
       "3     data engineer         4\n",
       "0      data science         2\n",
       "1  machine learning         3\n",
       "2          big data         6"
      ]
     },
     "execution_count": 10,
     "metadata": {},
     "output_type": "execute_result"
    }
   ],
   "source": [
    "new_df"
   ]
  },
  {
   "cell_type": "code",
   "execution_count": 11,
   "id": "e09dd50f-6d81-48c7-b143-9423ca9f8497",
   "metadata": {},
   "outputs": [
    {
     "data": {
      "text/plain": [
       "course_name    big data\n",
       "duration              6\n",
       "Name: 2, dtype: object"
      ]
     },
     "execution_count": 11,
     "metadata": {},
     "output_type": "execute_result"
    }
   ],
   "source": [
    "new_df.loc[2]"
   ]
  },
  {
   "cell_type": "code",
   "execution_count": 12,
   "id": "6cb9e79b-5eb4-45ea-8d10-01a2808ba0dc",
   "metadata": {},
   "outputs": [
    {
     "data": {
      "text/plain": [
       "course_name    machine learning\n",
       "duration                      3\n",
       "Name: 1, dtype: object"
      ]
     },
     "execution_count": 12,
     "metadata": {},
     "output_type": "execute_result"
    }
   ],
   "source": [
    "new_df.iloc[2]"
   ]
  },
  {
   "cell_type": "code",
   "execution_count": null,
   "id": "fab69056-1a84-419a-8447-f5e8213751b5",
   "metadata": {},
   "outputs": [],
   "source": [
    "4:ans:- codes are:-"
   ]
  },
  {
   "cell_type": "code",
   "execution_count": 13,
   "id": "d796c45d-5cc8-4ae5-9669-2280e50b48dc",
   "metadata": {},
   "outputs": [],
   "source": [
    "import pandas as pd"
   ]
  },
  {
   "cell_type": "code",
   "execution_count": 14,
   "id": "2567c013-780b-4481-95cc-140575118f93",
   "metadata": {},
   "outputs": [],
   "source": [
    "import numpy as np"
   ]
  },
  {
   "cell_type": "code",
   "execution_count": 15,
   "id": "07e9e5ab-39f6-4464-83a9-1049fd873b15",
   "metadata": {},
   "outputs": [],
   "source": [
    "columns = ['column_1' , 'column_2' , 'column_3' ,'column_4' ,'column_5' ,'column_6' ]"
   ]
  },
  {
   "cell_type": "code",
   "execution_count": 16,
   "id": "b3b14f8b-c5d1-4253-bb3f-d68e70630428",
   "metadata": {},
   "outputs": [],
   "source": [
    "indices = [1,2,3,4,5,6]"
   ]
  },
  {
   "cell_type": "code",
   "execution_count": 17,
   "id": "cc656607-80b3-468f-80af-f4b8576d58bc",
   "metadata": {},
   "outputs": [],
   "source": [
    "# creating dataframe"
   ]
  },
  {
   "cell_type": "code",
   "execution_count": 18,
   "id": "dab3b203-dc77-43fa-8196-322a94585e17",
   "metadata": {},
   "outputs": [],
   "source": [
    "df1 = pd.DataFrame(np.random.rand(6,6), columns = columns , index = indices)"
   ]
  },
  {
   "cell_type": "code",
   "execution_count": 19,
   "id": "41aa988f-40c8-42b8-9f41-8e01742aa2da",
   "metadata": {},
   "outputs": [
    {
     "name": "stdout",
     "output_type": "stream",
     "text": [
      "column_1    0.560195\n",
      "column_2    0.497408\n",
      "column_3    0.518682\n",
      "column_4    0.548381\n",
      "column_5    0.601047\n",
      "column_6    0.481451\n",
      "dtype: float64\n"
     ]
    }
   ],
   "source": [
    "mean_df1 = df1.apply(lambda x: x.mean())\n",
    "\n",
    "print(mean_df1)"
   ]
  },
  {
   "cell_type": "code",
   "execution_count": 20,
   "id": "9c4adbbd-7c09-439d-a59b-322041736e61",
   "metadata": {},
   "outputs": [
    {
     "name": "stdout",
     "output_type": "stream",
     "text": [
      "Standard deviation of 'column_2': 0.3243493609880043\n"
     ]
    }
   ],
   "source": [
    "std_deviation = df1['column_2'].std()\n",
    "print(\"Standard deviation of 'column_2':\", std_deviation)"
   ]
  },
  {
   "cell_type": "code",
   "execution_count": null,
   "id": "08e0bdcd-2163-48f1-ad7b-4fed24ff74a4",
   "metadata": {},
   "outputs": [],
   "source": [
    "5:ans:- codes are:-\n",
    "\n",
    "        error occured beacause if the column 2 is replaced then how can i take out mean of the column2."
   ]
  },
  {
   "cell_type": "code",
   "execution_count": null,
   "id": "2cccfada-ac32-451e-8dbf-ecb0d28b1f82",
   "metadata": {},
   "outputs": [],
   "source": [
    "6:ans:-In pandas, a window function is a function that performs a calculation across a sliding window\n",
    "        of data in a pandas DataFrame. The window size can be fixed or variable, and it can slide over the\n",
    "        data either continuously or in discrete steps. Window functions are commonly used for calculations\n",
    "        that require looking at a subset of the data, such as rolling averages, cumulative sums, and rank calculations.\n",
    "\n",
    "                        There are several types of window functions in pandas:\n",
    "\n",
    "                                Rolling window functions\n",
    "\n",
    "                                Expanding window function\n",
    "\n",
    "                                Exponentially-weighted window function\n",
    "\n",
    "                                Rolling and expanding apply function.\n",
    "\n",
    "        Overall, window functions provide a powerful tool for performing complex calculations over subsets of data in a\n",
    "        pandas DataFrame."
   ]
  },
  {
   "cell_type": "code",
   "execution_count": null,
   "id": "b0f7d89a-82e5-4491-bdef-0c2d0b6e73da",
   "metadata": {},
   "outputs": [],
   "source": [
    "7:ans:- codes are:-"
   ]
  },
  {
   "cell_type": "code",
   "execution_count": 21,
   "id": "f37c34f1-ee3a-429f-b8b8-2af43a0b1fae",
   "metadata": {},
   "outputs": [],
   "source": [
    "import pandas as pd"
   ]
  },
  {
   "cell_type": "code",
   "execution_count": 22,
   "id": "ee60214e-0515-40aa-b2ed-622df55c863e",
   "metadata": {},
   "outputs": [],
   "source": [
    "current_time = pd.Timestamp.now()"
   ]
  },
  {
   "cell_type": "code",
   "execution_count": 23,
   "id": "4fc7cba9-5faf-4102-97da-b5f5b4dc6890",
   "metadata": {},
   "outputs": [],
   "source": [
    "current_month = current_time.month_name()"
   ]
  },
  {
   "cell_type": "code",
   "execution_count": 24,
   "id": "9e777267-c253-4f06-9288-b241433a21f1",
   "metadata": {},
   "outputs": [],
   "source": [
    "current_year = current_time.year"
   ]
  },
  {
   "cell_type": "code",
   "execution_count": 25,
   "id": "631ef1a9-5175-428b-8cbb-61f7bf7e63ce",
   "metadata": {},
   "outputs": [
    {
     "name": "stdout",
     "output_type": "stream",
     "text": [
      "Current month and year: April 2023\n"
     ]
    }
   ],
   "source": [
    "print(\"Current month and year:\", current_month, current_year)"
   ]
  },
  {
   "cell_type": "code",
   "execution_count": null,
   "id": "1c4beece-28a6-4a1d-917a-8370ff32987d",
   "metadata": {},
   "outputs": [],
   "source": [
    "8:ans:-codes are:-"
   ]
  },
  {
   "cell_type": "code",
   "execution_count": 1,
   "id": "a51c6cbc-7937-4cef-a366-1ccd65de9141",
   "metadata": {},
   "outputs": [],
   "source": [
    "import pandas as pd"
   ]
  },
  {
   "cell_type": "code",
   "execution_count": null,
   "id": "d47f810e-0eee-4641-b9cd-773e5b126663",
   "metadata": {},
   "outputs": [],
   "source": [
    " #Prompt user to enter the first date\n",
    "date1 = input(\"Enter the first date (YYYY-MM-DD):\")"
   ]
  },
  {
   "cell_type": "code",
   "execution_count": null,
   "id": "57d11792-6e16-4524-8ebb-3843d780c616",
   "metadata": {},
   "outputs": [],
   "source": [
    "# Prompt user to enter the second date\n",
    "date2 = input(\"Enter the second date (YYYY-MM-DD): \")"
   ]
  },
  {
   "cell_type": "code",
   "execution_count": null,
   "id": "a4ad0306-cb1c-4b71-a65e-9ef0b54d9c76",
   "metadata": {},
   "outputs": [],
   "source": [
    "# Convert the dates to pandas datetime objects\n",
    "date1 = pd.to_datetime(date1)\n",
    "date2 = pd.to_datetime(date2)"
   ]
  },
  {
   "cell_type": "code",
   "execution_count": null,
   "id": "5a15b1dd-9ee1-496b-b2fb-b421a7fcad99",
   "metadata": {},
   "outputs": [],
   "source": [
    "# Calculate the time difference between the two dates\n",
    "time_diff = date2 - date1"
   ]
  },
  {
   "cell_type": "code",
   "execution_count": null,
   "id": "b5ccfaec-cef7-4539-82a6-96e69f6b7dea",
   "metadata": {},
   "outputs": [],
   "source": [
    "# Extract the number of days, hours, and minutes from the time difference\n",
    "days = time_diff.days\n",
    "hours = time_diff.seconds // 3600\n",
    "minutes = (time_diff.seconds % 3600) // 60"
   ]
  },
  {
   "cell_type": "code",
   "execution_count": null,
   "id": "0978528d-8c5b-4e12-abe0-6ef87d700c2c",
   "metadata": {},
   "outputs": [],
   "source": [
    "# Display the result\n",
    "print(f\"The difference between {date1.date()} and {date2.date()} is:\")\n",
    "print(f\"{days} days, {hours} hours, and {minutes} minutes.\")"
   ]
  },
  {
   "cell_type": "code",
   "execution_count": null,
   "id": "69edd9b0-44fe-4689-b276-79a1559d5b3d",
   "metadata": {},
   "outputs": [],
   "source": [
    "9:ans:- codes are :-"
   ]
  },
  {
   "cell_type": "code",
   "execution_count": 1,
   "id": "807ea4d3-b334-41de-9c24-ab70e340fb4f",
   "metadata": {},
   "outputs": [],
   "source": [
    "import pandas as pd"
   ]
  },
  {
   "cell_type": "code",
   "execution_count": null,
   "id": "80981310-6383-48de-a703-89eb90ef649d",
   "metadata": {},
   "outputs": [],
   "source": [
    "# Prompt the user for the file path, column name, and category order\n",
    "file_path = input(\"Enter the file path: \")\n",
    "column_name = input(\"Enter the column name: \")\n",
    "category_order = input(\"Enter the category order (comma-separated): \").split(\",\")\n"
   ]
  },
  {
   "cell_type": "code",
   "execution_count": null,
   "id": "22d8f029-613d-4334-b4a4-fe02169939da",
   "metadata": {},
   "outputs": [],
   "source": [
    "# Read the CSV file\n",
    "data = pd.read_csv(file_path)"
   ]
  },
  {
   "cell_type": "code",
   "execution_count": null,
   "id": "b3498374-11bb-4138-9d5e-792d93dfef31",
   "metadata": {},
   "outputs": [],
   "source": [
    "# Convert the specified column to a categorical data type\n",
    "data[column_name] = pd.Categorical(data[column_name], categories=category_order)\n"
   ]
  },
  {
   "cell_type": "code",
   "execution_count": null,
   "id": "5243667c-d40f-43f6-aed1-114a41e44dba",
   "metadata": {},
   "outputs": [],
   "source": [
    "# Sort the data by the specified column\n",
    "sorted_data = data.sort_values(by=column_name)"
   ]
  },
  {
   "cell_type": "code",
   "execution_count": null,
   "id": "4e5e49bd-5c8f-4fea-b05e-6278786878bb",
   "metadata": {},
   "outputs": [],
   "source": [
    "# Display the sorted data\n",
    "print(sorted_data)"
   ]
  },
  {
   "cell_type": "code",
   "execution_count": null,
   "id": "c1f43bd2-7b6e-4c37-998c-a97e84afb719",
   "metadata": {},
   "outputs": [],
   "source": []
  }
 ],
 "metadata": {
  "kernelspec": {
   "display_name": "Python 3 (ipykernel)",
   "language": "python",
   "name": "python3"
  },
  "language_info": {
   "codemirror_mode": {
    "name": "ipython",
    "version": 3
   },
   "file_extension": ".py",
   "mimetype": "text/x-python",
   "name": "python",
   "nbconvert_exporter": "python",
   "pygments_lexer": "ipython3",
   "version": "3.10.8"
  }
 },
 "nbformat": 4,
 "nbformat_minor": 5
}
